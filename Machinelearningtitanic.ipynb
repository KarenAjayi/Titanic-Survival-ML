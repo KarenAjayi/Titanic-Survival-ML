{
  "metadata": {
    "kernelspec": {
      "language": "python",
      "display_name": "Python 3",
      "name": "python3"
    },
    "language_info": {
      "name": "python",
      "version": "3.10.12",
      "mimetype": "text/x-python",
      "codemirror_mode": {
        "name": "ipython",
        "version": 3
      },
      "pygments_lexer": "ipython3",
      "nbconvert_exporter": "python",
      "file_extension": ".py"
    },
    "kaggle": {
      "accelerator": "none",
      "dataSources": [
        {
          "sourceId": 4969663,
          "sourceType": "datasetVersion",
          "datasetId": 2882356
        }
      ],
      "dockerImageVersionId": 30635,
      "isInternetEnabled": true,
      "language": "python",
      "sourceType": "notebook",
      "isGpuEnabled": false
    },
    "colab": {
      "provenance": []
    }
  },
  "nbformat_minor": 0,
  "nbformat": 4,
  "cells": [
    {
      "cell_type": "code",
      "source": [
        "!pip install pyspark==3.2"
      ],
      "metadata": {
        "execution": {
          "iopub.status.busy": "2024-01-20T10:46:11.769166Z",
          "iopub.execute_input": "2024-01-20T10:46:11.770037Z",
          "iopub.status.idle": "2024-01-20T10:47:07.921305Z",
          "shell.execute_reply.started": "2024-01-20T10:46:11.769996Z",
          "shell.execute_reply": "2024-01-20T10:47:07.920140Z"
        },
        "trusted": true,
        "id": "kDFNSfsMfYKF",
        "outputId": "57966161-7b41-4851-86b0-639917cf8a61",
        "colab": {
          "base_uri": "https://localhost:8080/"
        }
      },
      "execution_count": 100,
      "outputs": [
        {
          "output_type": "stream",
          "name": "stdout",
          "text": [
            "Requirement already satisfied: pyspark==3.2 in /usr/local/lib/python3.10/dist-packages (3.2.0)\n",
            "Requirement already satisfied: py4j==0.10.9.2 in /usr/local/lib/python3.10/dist-packages (from pyspark==3.2) (0.10.9.2)\n"
          ]
        }
      ]
    },
    {
      "cell_type": "code",
      "source": [
        "import numpy as np # linear algebra\n",
        "import pandas as pd # data processing, CSV file I/O (e.g. pd.read_csv)\n",
        "import matplotlib.pyplot as plt   # data visualization\n",
        "import seaborn as sns"
      ],
      "metadata": {
        "id": "34SdpZy3zSLq"
      },
      "execution_count": 101,
      "outputs": []
    },
    {
      "cell_type": "code",
      "source": [
        "from pyspark import SparkConf, SparkContext\n",
        "from pyspark.sql import SparkSession, SQLContext\n",
        "spark = SparkSession.builder.master(\"local[2]\").appName(\"ml\").getOrCreate()\n",
        "sc = spark.sparkContext"
      ],
      "metadata": {
        "execution": {
          "iopub.status.busy": "2024-01-20T10:47:45.743533Z",
          "iopub.execute_input": "2024-01-20T10:47:45.744013Z",
          "iopub.status.idle": "2024-01-20T10:47:53.094200Z",
          "shell.execute_reply.started": "2024-01-20T10:47:45.743971Z",
          "shell.execute_reply": "2024-01-20T10:47:53.092525Z"
        },
        "trusted": true,
        "id": "esDe7tUXfYKH"
      },
      "execution_count": 102,
      "outputs": []
    },
    {
      "cell_type": "code",
      "source": [
        "irisdata = spark.read.csv(\"/content/TitanicData1 (1).csv\",inferSchema=True, header = True)"
      ],
      "metadata": {
        "execution": {
          "iopub.status.busy": "2024-01-20T10:48:51.509659Z",
          "iopub.execute_input": "2024-01-20T10:48:51.510134Z",
          "iopub.status.idle": "2024-01-20T10:48:52.489184Z",
          "shell.execute_reply.started": "2024-01-20T10:48:51.510097Z",
          "shell.execute_reply": "2024-01-20T10:48:52.487850Z"
        },
        "trusted": true,
        "id": "GYBh7ivyfYKH"
      },
      "execution_count": 103,
      "outputs": []
    },
    {
      "cell_type": "code",
      "source": [
        "# Summary statistics\n",
        "print(irisdata.describe())"
      ],
      "metadata": {
        "colab": {
          "base_uri": "https://localhost:8080/"
        },
        "id": "0HByt5YazRaT",
        "outputId": "8b047815-ed19-4570-e0e2-7dee06696837"
      },
      "execution_count": 104,
      "outputs": [
        {
          "output_type": "stream",
          "name": "stdout",
          "text": [
            "DataFrame[summary: string, PassengerId: string, Pclass: string, Name: string, Sex: string, Age: string, SibSp: string, Parch: string, Ticket: string, Fare: string, Cabin: string, Embarked: string, Survived: string]\n"
          ]
        }
      ]
    },
    {
      "cell_type": "code",
      "source": [
        "#checking data's in the correct formate\n",
        "\n",
        "irisdata.dtypes\n"
      ],
      "metadata": {
        "colab": {
          "base_uri": "https://localhost:8080/"
        },
        "id": "s0zlyxVmzpvS",
        "outputId": "136a028f-9702-448e-814a-e3ab68c93670"
      },
      "execution_count": 105,
      "outputs": [
        {
          "output_type": "execute_result",
          "data": {
            "text/plain": [
              "[('PassengerId', 'int'),\n",
              " ('Pclass', 'int'),\n",
              " ('Name', 'string'),\n",
              " ('Sex', 'string'),\n",
              " ('Age', 'double'),\n",
              " ('SibSp', 'int'),\n",
              " ('Parch', 'int'),\n",
              " ('Ticket', 'string'),\n",
              " ('Fare', 'double'),\n",
              " ('Cabin', 'string'),\n",
              " ('Embarked', 'string'),\n",
              " ('Survived', 'int')]"
            ]
          },
          "metadata": {},
          "execution_count": 105
        }
      ]
    },
    {
      "cell_type": "code",
      "source": [
        "# Drop rows with missing close\n",
        "irisdata =irisdata.dropna()"
      ],
      "metadata": {
        "id": "a4vAM1Jq0MDy"
      },
      "execution_count": 106,
      "outputs": []
    },
    {
      "cell_type": "code",
      "source": [
        "irisdata.show()\n",
        "# check data type\n",
        "print(irisdata.printSchema())"
      ],
      "metadata": {
        "execution": {
          "iopub.status.busy": "2024-01-20T10:48:55.590584Z",
          "iopub.execute_input": "2024-01-20T10:48:55.591141Z",
          "iopub.status.idle": "2024-01-20T10:48:56.393861Z",
          "shell.execute_reply.started": "2024-01-20T10:48:55.591100Z",
          "shell.execute_reply": "2024-01-20T10:48:56.392232Z"
        },
        "trusted": true,
        "id": "rcWFhqwZfYKH",
        "outputId": "cfa84659-4331-4774-8976-9d0fbcb1ee21",
        "colab": {
          "base_uri": "https://localhost:8080/"
        }
      },
      "execution_count": 107,
      "outputs": [
        {
          "output_type": "stream",
          "name": "stdout",
          "text": [
            "+-----------+------+--------------------+------+----+-----+-----+-----------+--------+-----------+--------+--------+\n",
            "|PassengerId|Pclass|                Name|   Sex| Age|SibSp|Parch|     Ticket|    Fare|      Cabin|Embarked|Survived|\n",
            "+-----------+------+--------------------+------+----+-----+-----+-----------+--------+-----------+--------+--------+\n",
            "|          2|     1|Cumings, Mrs. Joh...|female|38.0|    1|    0|   PC 17599| 71.2833|        C85|       C|       1|\n",
            "|          4|     1|Futrelle, Mrs. Ja...|female|35.0|    1|    0|     113803|    53.1|       C123|       S|       1|\n",
            "|          7|     1|McCarthy, Mr. Tim...|  male|54.0|    0|    0|      17463| 51.8625|        E46|       S|       0|\n",
            "|         11|     3|Sandstrom, Miss. ...|female| 4.0|    1|    1|    PP 9549|    16.7|         G6|       S|       1|\n",
            "|         12|     1|Bonnell, Miss. El...|female|58.0|    0|    0|     113783|   26.55|       C103|       S|       1|\n",
            "|         22|     2|Beesley, Mr. Lawr...|  male|34.0|    0|    0|     248698|    13.0|        D56|       S|       1|\n",
            "|         24|     1|Sloper, Mr. Willi...|  male|28.0|    0|    0|     113788|    35.5|         A6|       S|       1|\n",
            "|         28|     1|Fortune, Mr. Char...|  male|19.0|    3|    2|      19950|   263.0|C23 C25 C27|       S|       0|\n",
            "|         53|     1|Harper, Mrs. Henr...|female|49.0|    1|    0|   PC 17572| 76.7292|        D33|       C|       1|\n",
            "|         55|     1|Ostby, Mr. Engelh...|  male|65.0|    0|    1|     113509| 61.9792|        B30|       C|       0|\n",
            "|         63|     1|Harris, Mr. Henry...|  male|45.0|    1|    0|      36973|  83.475|        C83|       S|       0|\n",
            "|         67|     2|Nye, Mrs. (Elizab...|female|29.0|    0|    0| C.A. 29395|    10.5|        F33|       S|       1|\n",
            "|         76|     3|Moen, Mr. Sigurd ...|  male|25.0|    0|    0|     348123|    7.65|      F G73|       S|       0|\n",
            "|         89|     1|Fortune, Miss. Ma...|female|23.0|    3|    2|      19950|   263.0|C23 C25 C27|       S|       1|\n",
            "|         93|     1|Chaffee, Mr. Herb...|  male|46.0|    1|    0|W.E.P. 5734|  61.175|        E31|       S|       0|\n",
            "|         97|     1|Goldschmidt, Mr. ...|  male|71.0|    0|    0|   PC 17754| 34.6542|         A5|       C|       0|\n",
            "|         98|     1|Greenfield, Mr. W...|  male|23.0|    0|    1|   PC 17759| 63.3583|    D10 D12|       C|       1|\n",
            "|        103|     1|White, Mr. Richar...|  male|21.0|    0|    1|      35281| 77.2875|        D26|       S|       0|\n",
            "|        111|     1|Porter, Mr. Walte...|  male|47.0|    0|    0|     110465|    52.0|       C110|       S|       0|\n",
            "|        119|     1|Baxter, Mr. Quigg...|  male|24.0|    0|    1|   PC 17558|247.5208|    B58 B60|       C|       0|\n",
            "+-----------+------+--------------------+------+----+-----+-----+-----------+--------+-----------+--------+--------+\n",
            "only showing top 20 rows\n",
            "\n",
            "root\n",
            " |-- PassengerId: integer (nullable = true)\n",
            " |-- Pclass: integer (nullable = true)\n",
            " |-- Name: string (nullable = true)\n",
            " |-- Sex: string (nullable = true)\n",
            " |-- Age: double (nullable = true)\n",
            " |-- SibSp: integer (nullable = true)\n",
            " |-- Parch: integer (nullable = true)\n",
            " |-- Ticket: string (nullable = true)\n",
            " |-- Fare: double (nullable = true)\n",
            " |-- Cabin: string (nullable = true)\n",
            " |-- Embarked: string (nullable = true)\n",
            " |-- Survived: integer (nullable = true)\n",
            "\n",
            "None\n"
          ]
        }
      ]
    },
    {
      "cell_type": "code",
      "source": [
        "# Display the DataFrame\n",
        "irisdata.show()\n",
        "\n",
        "\n",
        "\n"
      ],
      "metadata": {
        "colab": {
          "base_uri": "https://localhost:8080/"
        },
        "id": "QvaM9bc5h2mG",
        "outputId": "13ec5ae6-e8c3-4f3a-e396-4cc942ced9b2"
      },
      "execution_count": 108,
      "outputs": [
        {
          "output_type": "stream",
          "name": "stdout",
          "text": [
            "+-----------+------+--------------------+------+----+-----+-----+-----------+--------+-----------+--------+--------+\n",
            "|PassengerId|Pclass|                Name|   Sex| Age|SibSp|Parch|     Ticket|    Fare|      Cabin|Embarked|Survived|\n",
            "+-----------+------+--------------------+------+----+-----+-----+-----------+--------+-----------+--------+--------+\n",
            "|          2|     1|Cumings, Mrs. Joh...|female|38.0|    1|    0|   PC 17599| 71.2833|        C85|       C|       1|\n",
            "|          4|     1|Futrelle, Mrs. Ja...|female|35.0|    1|    0|     113803|    53.1|       C123|       S|       1|\n",
            "|          7|     1|McCarthy, Mr. Tim...|  male|54.0|    0|    0|      17463| 51.8625|        E46|       S|       0|\n",
            "|         11|     3|Sandstrom, Miss. ...|female| 4.0|    1|    1|    PP 9549|    16.7|         G6|       S|       1|\n",
            "|         12|     1|Bonnell, Miss. El...|female|58.0|    0|    0|     113783|   26.55|       C103|       S|       1|\n",
            "|         22|     2|Beesley, Mr. Lawr...|  male|34.0|    0|    0|     248698|    13.0|        D56|       S|       1|\n",
            "|         24|     1|Sloper, Mr. Willi...|  male|28.0|    0|    0|     113788|    35.5|         A6|       S|       1|\n",
            "|         28|     1|Fortune, Mr. Char...|  male|19.0|    3|    2|      19950|   263.0|C23 C25 C27|       S|       0|\n",
            "|         53|     1|Harper, Mrs. Henr...|female|49.0|    1|    0|   PC 17572| 76.7292|        D33|       C|       1|\n",
            "|         55|     1|Ostby, Mr. Engelh...|  male|65.0|    0|    1|     113509| 61.9792|        B30|       C|       0|\n",
            "|         63|     1|Harris, Mr. Henry...|  male|45.0|    1|    0|      36973|  83.475|        C83|       S|       0|\n",
            "|         67|     2|Nye, Mrs. (Elizab...|female|29.0|    0|    0| C.A. 29395|    10.5|        F33|       S|       1|\n",
            "|         76|     3|Moen, Mr. Sigurd ...|  male|25.0|    0|    0|     348123|    7.65|      F G73|       S|       0|\n",
            "|         89|     1|Fortune, Miss. Ma...|female|23.0|    3|    2|      19950|   263.0|C23 C25 C27|       S|       1|\n",
            "|         93|     1|Chaffee, Mr. Herb...|  male|46.0|    1|    0|W.E.P. 5734|  61.175|        E31|       S|       0|\n",
            "|         97|     1|Goldschmidt, Mr. ...|  male|71.0|    0|    0|   PC 17754| 34.6542|         A5|       C|       0|\n",
            "|         98|     1|Greenfield, Mr. W...|  male|23.0|    0|    1|   PC 17759| 63.3583|    D10 D12|       C|       1|\n",
            "|        103|     1|White, Mr. Richar...|  male|21.0|    0|    1|      35281| 77.2875|        D26|       S|       0|\n",
            "|        111|     1|Porter, Mr. Walte...|  male|47.0|    0|    0|     110465|    52.0|       C110|       S|       0|\n",
            "|        119|     1|Baxter, Mr. Quigg...|  male|24.0|    0|    1|   PC 17558|247.5208|    B58 B60|       C|       0|\n",
            "+-----------+------+--------------------+------+----+-----+-----+-----------+--------+-----------+--------+--------+\n",
            "only showing top 20 rows\n",
            "\n"
          ]
        }
      ]
    },
    {
      "cell_type": "code",
      "source": [
        "from pyspark.ml.feature import VectorAssembler,StringIndexer"
      ],
      "metadata": {
        "execution": {
          "iopub.status.busy": "2023-02-21T09:37:21.634229Z",
          "iopub.execute_input": "2023-02-21T09:37:21.635791Z",
          "iopub.status.idle": "2023-02-21T09:37:21.724311Z",
          "shell.execute_reply.started": "2023-02-21T09:37:21.635728Z",
          "shell.execute_reply": "2023-02-21T09:37:21.722935Z"
        },
        "trusted": true,
        "id": "0B57Yr8sfYKI"
      },
      "execution_count": 109,
      "outputs": []
    },
    {
      "cell_type": "code",
      "source": [
        "Assembler_features = VectorAssembler(inputCols=[\n",
        "'Pclass','Age','SibSp','Parch','Fare','Survived'],outputCol='features')"
      ],
      "metadata": {
        "execution": {
          "iopub.status.busy": "2023-02-21T09:38:00.243564Z",
          "iopub.execute_input": "2023-02-21T09:38:00.243975Z",
          "iopub.status.idle": "2023-02-21T09:38:00.254807Z",
          "shell.execute_reply.started": "2023-02-21T09:38:00.243944Z",
          "shell.execute_reply": "2023-02-21T09:38:00.253838Z"
        },
        "trusted": true,
        "id": "Ru_PKkCWfYKI"
      },
      "execution_count": 110,
      "outputs": []
    },
    {
      "cell_type": "code",
      "source": [
        "species_to_num = StringIndexer(inputCol='Embarked',outputCol='label')\n"
      ],
      "metadata": {
        "execution": {
          "iopub.status.busy": "2023-02-21T09:38:03.154928Z",
          "iopub.execute_input": "2023-02-21T09:38:03.155358Z",
          "iopub.status.idle": "2023-02-21T09:38:03.174586Z",
          "shell.execute_reply.started": "2023-02-21T09:38:03.155327Z",
          "shell.execute_reply": "2023-02-21T09:38:03.173495Z"
        },
        "trusted": true,
        "id": "m02Yy-JqfYKI"
      },
      "execution_count": 111,
      "outputs": []
    },
    {
      "cell_type": "code",
      "source": [
        "#Cleaning drop missing values\n",
        "irisdata.na.drop().show(truncate=True)"
      ],
      "metadata": {
        "colab": {
          "base_uri": "https://localhost:8080/"
        },
        "id": "z92tvbDPwSKt",
        "outputId": "163402aa-4df9-4473-e1cd-f5b33b408fea"
      },
      "execution_count": 112,
      "outputs": [
        {
          "output_type": "stream",
          "name": "stdout",
          "text": [
            "+-----------+------+--------------------+------+----+-----+-----+-----------+--------+-----------+--------+--------+\n",
            "|PassengerId|Pclass|                Name|   Sex| Age|SibSp|Parch|     Ticket|    Fare|      Cabin|Embarked|Survived|\n",
            "+-----------+------+--------------------+------+----+-----+-----+-----------+--------+-----------+--------+--------+\n",
            "|          2|     1|Cumings, Mrs. Joh...|female|38.0|    1|    0|   PC 17599| 71.2833|        C85|       C|       1|\n",
            "|          4|     1|Futrelle, Mrs. Ja...|female|35.0|    1|    0|     113803|    53.1|       C123|       S|       1|\n",
            "|          7|     1|McCarthy, Mr. Tim...|  male|54.0|    0|    0|      17463| 51.8625|        E46|       S|       0|\n",
            "|         11|     3|Sandstrom, Miss. ...|female| 4.0|    1|    1|    PP 9549|    16.7|         G6|       S|       1|\n",
            "|         12|     1|Bonnell, Miss. El...|female|58.0|    0|    0|     113783|   26.55|       C103|       S|       1|\n",
            "|         22|     2|Beesley, Mr. Lawr...|  male|34.0|    0|    0|     248698|    13.0|        D56|       S|       1|\n",
            "|         24|     1|Sloper, Mr. Willi...|  male|28.0|    0|    0|     113788|    35.5|         A6|       S|       1|\n",
            "|         28|     1|Fortune, Mr. Char...|  male|19.0|    3|    2|      19950|   263.0|C23 C25 C27|       S|       0|\n",
            "|         53|     1|Harper, Mrs. Henr...|female|49.0|    1|    0|   PC 17572| 76.7292|        D33|       C|       1|\n",
            "|         55|     1|Ostby, Mr. Engelh...|  male|65.0|    0|    1|     113509| 61.9792|        B30|       C|       0|\n",
            "|         63|     1|Harris, Mr. Henry...|  male|45.0|    1|    0|      36973|  83.475|        C83|       S|       0|\n",
            "|         67|     2|Nye, Mrs. (Elizab...|female|29.0|    0|    0| C.A. 29395|    10.5|        F33|       S|       1|\n",
            "|         76|     3|Moen, Mr. Sigurd ...|  male|25.0|    0|    0|     348123|    7.65|      F G73|       S|       0|\n",
            "|         89|     1|Fortune, Miss. Ma...|female|23.0|    3|    2|      19950|   263.0|C23 C25 C27|       S|       1|\n",
            "|         93|     1|Chaffee, Mr. Herb...|  male|46.0|    1|    0|W.E.P. 5734|  61.175|        E31|       S|       0|\n",
            "|         97|     1|Goldschmidt, Mr. ...|  male|71.0|    0|    0|   PC 17754| 34.6542|         A5|       C|       0|\n",
            "|         98|     1|Greenfield, Mr. W...|  male|23.0|    0|    1|   PC 17759| 63.3583|    D10 D12|       C|       1|\n",
            "|        103|     1|White, Mr. Richar...|  male|21.0|    0|    1|      35281| 77.2875|        D26|       S|       0|\n",
            "|        111|     1|Porter, Mr. Walte...|  male|47.0|    0|    0|     110465|    52.0|       C110|       S|       0|\n",
            "|        119|     1|Baxter, Mr. Quigg...|  male|24.0|    0|    1|   PC 17558|247.5208|    B58 B60|       C|       0|\n",
            "+-----------+------+--------------------+------+----+-----+-----+-----------+--------+-----------+--------+--------+\n",
            "only showing top 20 rows\n",
            "\n"
          ]
        }
      ]
    },
    {
      "cell_type": "code",
      "source": [
        "from pyspark.ml import Pipeline\n",
        "data_prep_pipe = Pipeline(stages=[Assembler_features,species_to_num])\n",
        "cleaner = data_prep_pipe.fit(irisdata)\n",
        "clean_data = cleaner.transform(irisdata)"
      ],
      "metadata": {
        "execution": {
          "iopub.status.busy": "2023-02-21T09:38:09.732153Z",
          "iopub.execute_input": "2023-02-21T09:38:09.732597Z",
          "iopub.status.idle": "2023-02-21T09:38:11.199468Z",
          "shell.execute_reply.started": "2023-02-21T09:38:09.732560Z",
          "shell.execute_reply": "2023-02-21T09:38:11.198223Z"
        },
        "trusted": true,
        "id": "n0uJl4u3fYKI"
      },
      "execution_count": 113,
      "outputs": []
    },
    {
      "cell_type": "code",
      "source": [
        "clean_data.show()"
      ],
      "metadata": {
        "execution": {
          "iopub.status.busy": "2023-02-21T09:38:12.383029Z",
          "iopub.execute_input": "2023-02-21T09:38:12.383521Z",
          "iopub.status.idle": "2023-02-21T09:38:12.982937Z",
          "shell.execute_reply.started": "2023-02-21T09:38:12.383485Z",
          "shell.execute_reply": "2023-02-21T09:38:12.981462Z"
        },
        "trusted": true,
        "id": "82PgapwUfYKI",
        "colab": {
          "base_uri": "https://localhost:8080/"
        },
        "outputId": "f0060bb3-3e77-4934-c294-84cc1de33828"
      },
      "execution_count": 114,
      "outputs": [
        {
          "output_type": "stream",
          "name": "stdout",
          "text": [
            "+-----------+------+--------------------+------+----+-----+-----+-----------+--------+-----------+--------+--------+--------------------+-----+\n",
            "|PassengerId|Pclass|                Name|   Sex| Age|SibSp|Parch|     Ticket|    Fare|      Cabin|Embarked|Survived|            features|label|\n",
            "+-----------+------+--------------------+------+----+-----+-----+-----------+--------+-----------+--------+--------+--------------------+-----+\n",
            "|          2|     1|Cumings, Mrs. Joh...|female|38.0|    1|    0|   PC 17599| 71.2833|        C85|       C|       1|[1.0,38.0,1.0,0.0...|  1.0|\n",
            "|          4|     1|Futrelle, Mrs. Ja...|female|35.0|    1|    0|     113803|    53.1|       C123|       S|       1|[1.0,35.0,1.0,0.0...|  0.0|\n",
            "|          7|     1|McCarthy, Mr. Tim...|  male|54.0|    0|    0|      17463| 51.8625|        E46|       S|       0|[1.0,54.0,0.0,0.0...|  0.0|\n",
            "|         11|     3|Sandstrom, Miss. ...|female| 4.0|    1|    1|    PP 9549|    16.7|         G6|       S|       1|[3.0,4.0,1.0,1.0,...|  0.0|\n",
            "|         12|     1|Bonnell, Miss. El...|female|58.0|    0|    0|     113783|   26.55|       C103|       S|       1|[1.0,58.0,0.0,0.0...|  0.0|\n",
            "|         22|     2|Beesley, Mr. Lawr...|  male|34.0|    0|    0|     248698|    13.0|        D56|       S|       1|[2.0,34.0,0.0,0.0...|  0.0|\n",
            "|         24|     1|Sloper, Mr. Willi...|  male|28.0|    0|    0|     113788|    35.5|         A6|       S|       1|[1.0,28.0,0.0,0.0...|  0.0|\n",
            "|         28|     1|Fortune, Mr. Char...|  male|19.0|    3|    2|      19950|   263.0|C23 C25 C27|       S|       0|[1.0,19.0,3.0,2.0...|  0.0|\n",
            "|         53|     1|Harper, Mrs. Henr...|female|49.0|    1|    0|   PC 17572| 76.7292|        D33|       C|       1|[1.0,49.0,1.0,0.0...|  1.0|\n",
            "|         55|     1|Ostby, Mr. Engelh...|  male|65.0|    0|    1|     113509| 61.9792|        B30|       C|       0|[1.0,65.0,0.0,1.0...|  1.0|\n",
            "|         63|     1|Harris, Mr. Henry...|  male|45.0|    1|    0|      36973|  83.475|        C83|       S|       0|[1.0,45.0,1.0,0.0...|  0.0|\n",
            "|         67|     2|Nye, Mrs. (Elizab...|female|29.0|    0|    0| C.A. 29395|    10.5|        F33|       S|       1|[2.0,29.0,0.0,0.0...|  0.0|\n",
            "|         76|     3|Moen, Mr. Sigurd ...|  male|25.0|    0|    0|     348123|    7.65|      F G73|       S|       0|[3.0,25.0,0.0,0.0...|  0.0|\n",
            "|         89|     1|Fortune, Miss. Ma...|female|23.0|    3|    2|      19950|   263.0|C23 C25 C27|       S|       1|[1.0,23.0,3.0,2.0...|  0.0|\n",
            "|         93|     1|Chaffee, Mr. Herb...|  male|46.0|    1|    0|W.E.P. 5734|  61.175|        E31|       S|       0|[1.0,46.0,1.0,0.0...|  0.0|\n",
            "|         97|     1|Goldschmidt, Mr. ...|  male|71.0|    0|    0|   PC 17754| 34.6542|         A5|       C|       0|[1.0,71.0,0.0,0.0...|  1.0|\n",
            "|         98|     1|Greenfield, Mr. W...|  male|23.0|    0|    1|   PC 17759| 63.3583|    D10 D12|       C|       1|[1.0,23.0,0.0,1.0...|  1.0|\n",
            "|        103|     1|White, Mr. Richar...|  male|21.0|    0|    1|      35281| 77.2875|        D26|       S|       0|[1.0,21.0,0.0,1.0...|  0.0|\n",
            "|        111|     1|Porter, Mr. Walte...|  male|47.0|    0|    0|     110465|    52.0|       C110|       S|       0|[1.0,47.0,0.0,0.0...|  0.0|\n",
            "|        119|     1|Baxter, Mr. Quigg...|  male|24.0|    0|    1|   PC 17558|247.5208|    B58 B60|       C|       0|[1.0,24.0,0.0,1.0...|  1.0|\n",
            "+-----------+------+--------------------+------+----+-----+-----+-----------+--------+-----------+--------+--------+--------------------+-----+\n",
            "only showing top 20 rows\n",
            "\n"
          ]
        }
      ]
    },
    {
      "cell_type": "code",
      "source": [
        "# Step 5.1 Split the data into training and test sets (70/30%) using randomSplit\n",
        "(training,testing) = clean_data.randomSplit([0.7,0.3])\n",
        "# Step 5.2 import NaiveBayes and Train Naive bayes model using training data\n",
        "from pyspark.ml.classification import NaiveBayes\n",
        "NB = NaiveBayes()\n",
        "# Train Naive bayes model using training data\n",
        "species_predictor = NB.fit(training)\n",
        "# Step 5.3 Test the model on testing data\n",
        "test_results = species_predictor.transform(testing)\n",
        "test_results.show()\n"
      ],
      "metadata": {
        "execution": {
          "iopub.status.busy": "2023-02-21T09:38:26.874235Z",
          "iopub.execute_input": "2023-02-21T09:38:26.874730Z",
          "iopub.status.idle": "2023-02-21T09:38:28.997741Z",
          "shell.execute_reply.started": "2023-02-21T09:38:26.874691Z",
          "shell.execute_reply": "2023-02-21T09:38:28.996495Z"
        },
        "trusted": true,
        "id": "oPcO6s3LfYKJ",
        "colab": {
          "base_uri": "https://localhost:8080/"
        },
        "outputId": "331a5a4a-e6c9-44d2-9814-5228a1f7b3df"
      },
      "execution_count": 115,
      "outputs": [
        {
          "output_type": "stream",
          "name": "stdout",
          "text": [
            "+-----------+------+--------------------+------+----+-----+-----+-----------------+-------+-------+--------+--------+--------------------+-----+--------------------+--------------------+----------+\n",
            "|PassengerId|Pclass|                Name|   Sex| Age|SibSp|Parch|           Ticket|   Fare|  Cabin|Embarked|Survived|            features|label|       rawPrediction|         probability|prediction|\n",
            "+-----------+------+--------------------+------+----+-----+-----+-----------------+-------+-------+--------+--------+--------------------+-----+--------------------+--------------------+----------+\n",
            "|          7|     1|McCarthy, Mr. Tim...|  male|54.0|    0|    0|            17463|51.8625|    E46|       S|       0|[1.0,54.0,0.0,0.0...|  0.0|[-87.773775159878...|[0.99630225845360...|       0.0|\n",
            "|         98|     1|Greenfield, Mr. W...|  male|23.0|    0|    1|         PC 17759|63.3583|D10 D12|       C|       1|[1.0,23.0,0.0,1.0...|  1.0|[-68.886440458751...|[0.44602699775527...|       1.0|\n",
            "|        111|     1|Porter, Mr. Walte...|  male|47.0|    0|    0|           110465|   52.0|   C110|       S|       0|[1.0,47.0,0.0,0.0...|  0.0|[-80.100721497785...|[0.98736298173489...|       0.0|\n",
            "|        125|     1|White, Mr. Perciv...|  male|54.0|    0|    1|            35281|77.2875|    D26|       S|       0|[1.0,54.0,0.0,1.0...|  0.0|[-104.32441721447...|[0.97748541158133...|       0.0|\n",
            "|        138|     1|Futrelle, Mr. Jac...|  male|37.0|    1|    0|           113803|   53.1|   C123|       S|       0|[1.0,37.0,1.0,0.0...|  0.0|[-74.802750512931...|[0.93835052935448...|       0.0|\n",
            "|        171|     1|Van der hoef, Mr....|  male|61.0|    0|    0|           111240|   33.5|    B19|       S|       0|[1.0,61.0,0.0,0.0...|  0.0|[-87.271634197285...|[0.99978247329251...|       0.0|\n",
            "|        178|     1|Isham, Miss. Ann ...|female|50.0|    0|    0|         PC 17595|28.7125|    C49|       C|       0|[1.0,50.0,0.0,0.0...|  1.0|[-72.969524656719...|[0.99908490827496...|       0.0|\n",
            "|        194|     2|Navratil, Master....|  male| 3.0|    1|    1|           230080|   26.0|     F2|       S|       1|[2.0,3.0,1.0,1.0,...|  0.0|[-39.639096740600...|[0.61288271092586...|       0.0|\n",
            "|        195|     1|Brown, Mrs. James...|female|44.0|    0|    0|         PC 17610|27.7208|     B4|       C|       1|[1.0,44.0,0.0,0.0...|  1.0|[-70.958969962616...|[0.99795145894702...|       0.0|\n",
            "|        276|     1|Andrews, Miss. Ko...|female|63.0|    1|    0|            13502|77.9583|     D7|       S|       1|[1.0,63.0,1.0,0.0...|  0.0|[-119.74651460713...|[0.99381132240351...|       0.0|\n",
            "|        293|     2|Levy, Mr. Rene Ja...|  male|36.0|    0|    0|    SC/Paris 2163| 12.875|      D|       C|       0|[2.0,36.0,0.0,0.0...|  1.0|[-54.747325185837...|[0.99841796951589...|       0.0|\n",
            "|        330|     1|Hippach, Miss. Je...|female|16.0|    0|    1|           111361|57.9792|    B18|       C|       1|[1.0,16.0,0.0,1.0...|  1.0|[-58.738803605078...|[0.27946213216063...|       1.0|\n",
            "|        332|     1| Partner, Mr. Austen|  male|45.5|    0|    0|           113043|   28.5|   C124|       S|       0|[1.0,45.5,0.0,0.0...|  0.0|[-67.901875688342...|[0.99807030776096...|       0.0|\n",
            "|        341|     2|Navratil, Master....|  male| 2.0|    1|    1|           230080|   26.0|     F2|       S|       1|[2.0,2.0,1.0,1.0,...|  0.0|[-38.534135014145...|[0.57244230780575...|       0.0|\n",
            "|        371|     1|Harder, Mr. Georg...|  male|25.0|    1|    0|            11765|55.4417|    E50|       C|       1|[1.0,25.0,1.0,0.0...|  1.0|[-67.657689864044...|[0.64353731563981...|       0.0|\n",
            "|        391|     1|Carter, Mr. Willi...|  male|36.0|    1|    2|           113760|  120.0|B96 B98|       S|       1|[1.0,36.0,1.0,2.0...|  0.0|[-119.06268989009...|[0.08094906976301...|       1.0|\n",
            "|        394|     1|Newell, Miss. Mar...|female|23.0|    1|    0|            35273|113.275|    D36|       C|       1|[1.0,23.0,1.0,0.0...|  1.0|[-91.390070020893...|[0.00527750540169...|       1.0|\n",
            "|        430|     3|Pickard, Mr. Berk...|  male|32.0|    0|    0|SOTON/O.Q. 392078|   8.05|    E10|       S|       1|[3.0,32.0,0.0,0.0...|  0.0|[-57.578686836931...|[0.99868961195559...|       0.0|\n",
            "|        431|     1|Bjornstrom-Steffa...|  male|28.0|    0|    0|           110564|  26.55|    C52|       S|       1|[1.0,28.0,0.0,0.0...|  0.0|[-52.754396173812...|[0.97230470426373...|       0.0|\n",
            "|        435|     1|Silvey, Mr. Willi...|  male|50.0|    1|    0|            13507|   55.9|    E44|       S|       0|[1.0,50.0,1.0,0.0...|  0.0|[-90.423249936226...|[0.99082862058157...|       0.0|\n",
            "+-----------+------+--------------------+------+----+-----+-----+-----------------+-------+-------+--------+--------+--------------------+-----+--------------------+--------------------+----------+\n",
            "only showing top 20 rows\n",
            "\n"
          ]
        }
      ]
    },
    {
      "cell_type": "code",
      "source": [
        "# Step 5.4 import multiclassmetrics for precision, recall, accuracy and confusion matrix calculation\n",
        "# extract prediction and ground truth label from test_results\n",
        "PredicationAndLabel = test_results['prediction','label']\n",
        "PredicationAndLabel.show()\n",
        "# import multiclassmetrics for precision, recall, and confusion matrix calculation\n",
        "from pyspark.mllib.evaluation import MulticlassMetrics\n",
        "multi_metrics = MulticlassMetrics(PredicationAndLabel.rdd)\n",
        "precision_score = multi_metrics.weightedPrecision\n",
        "recall_score = multi_metrics.weightedRecall\n",
        "accuracy_score = multi_metrics.accuracy\n",
        "print(recall_score)\n",
        "print(precision_score)\n",
        "print(accuracy_score)\n",
        "multi_metrics.confusionMatrix().toArray()\n",
        "\n"
      ],
      "metadata": {
        "execution": {
          "iopub.status.busy": "2023-02-21T09:38:57.087463Z",
          "iopub.execute_input": "2023-02-21T09:38:57.087959Z",
          "iopub.status.idle": "2023-02-21T09:38:57.758887Z",
          "shell.execute_reply.started": "2023-02-21T09:38:57.087920Z",
          "shell.execute_reply": "2023-02-21T09:38:57.757711Z"
        },
        "trusted": true,
        "id": "3oT-moKjfYKJ",
        "colab": {
          "base_uri": "https://localhost:8080/"
        },
        "outputId": "eedbda0b-028c-46a9-b454-ef657f97cf5c"
      },
      "execution_count": 116,
      "outputs": [
        {
          "output_type": "stream",
          "name": "stdout",
          "text": [
            "+----------+-----+\n",
            "|prediction|label|\n",
            "+----------+-----+\n",
            "|       0.0|  0.0|\n",
            "|       1.0|  1.0|\n",
            "|       0.0|  0.0|\n",
            "|       0.0|  0.0|\n",
            "|       0.0|  0.0|\n",
            "|       0.0|  0.0|\n",
            "|       0.0|  1.0|\n",
            "|       0.0|  0.0|\n",
            "|       0.0|  1.0|\n",
            "|       0.0|  0.0|\n",
            "|       0.0|  1.0|\n",
            "|       1.0|  1.0|\n",
            "|       0.0|  0.0|\n",
            "|       0.0|  0.0|\n",
            "|       0.0|  1.0|\n",
            "|       1.0|  0.0|\n",
            "|       1.0|  1.0|\n",
            "|       0.0|  0.0|\n",
            "|       0.0|  0.0|\n",
            "|       0.0|  0.0|\n",
            "+----------+-----+\n",
            "only showing top 20 rows\n",
            "\n",
            "0.6491228070175439\n",
            "0.6491228070175439\n",
            "0.6491228070175439\n"
          ]
        },
        {
          "output_type": "execute_result",
          "data": {
            "text/plain": [
              "array([[28., 10.],\n",
              "       [10.,  9.]])"
            ]
          },
          "metadata": {},
          "execution_count": 116
        }
      ]
    },
    {
      "cell_type": "code",
      "source": [
        "#Step 6 Logistic Regression algorithm Training and Evaluation (Your Task)\n",
        "# Step 6.1 Split the data into training and test sets (70/30%) using randomSplit\n",
        "(training,testing) = clean_data.randomSplit([0.7,0.3])\n",
        "# Step 6.2 import logistic regression and Train the model using training data\n",
        "from pyspark.ml.classification import LogisticRegression\n",
        "lr = LogisticRegression()\n",
        "# Train logistic regression model using training data\n",
        "spam_predictor_lr = lr.fit(training)\n",
        "# Step 6.3 Test the model on testing data\n",
        "test_results = spam_predictor_lr.transform(testing)\n",
        "test_results.show()\n",
        "# Step 6.4 import multiclassmetrics for precision, recall, accuracy and confusion matrix calculation\n",
        "# extract prediction and ground truth label from test_results\n",
        "PredicationAndLabel = test_results['prediction','label']\n",
        "PredicationAndLabel.show()\n",
        "# import multiclassmetrics for precision, recall, and confusion matrix calculation\n",
        "from pyspark.mllib.evaluation import MulticlassMetrics\n",
        "multi_metrics = MulticlassMetrics(PredicationAndLabel.rdd)\n",
        "precision_score = multi_metrics.weightedPrecision\n",
        "recall_score = multi_metrics.weightedRecall\n",
        "accuracy_score = multi_metrics.accuracy\n",
        "print(recall_score)\n",
        "print(precision_score)\n",
        "print(accuracy_score)\n",
        "multi_metrics.confusionMatrix().toArray()\n"
      ],
      "metadata": {
        "execution": {
          "iopub.status.busy": "2023-02-21T09:39:11.934855Z",
          "iopub.execute_input": "2023-02-21T09:39:11.935257Z",
          "iopub.status.idle": "2023-02-21T09:39:16.296796Z",
          "shell.execute_reply.started": "2023-02-21T09:39:11.935227Z",
          "shell.execute_reply": "2023-02-21T09:39:16.295493Z"
        },
        "trusted": true,
        "id": "Q6Ha21GKfYKJ",
        "colab": {
          "base_uri": "https://localhost:8080/"
        },
        "outputId": "69aa8128-19fe-4433-a370-38d258eecfe8"
      },
      "execution_count": 117,
      "outputs": [
        {
          "output_type": "stream",
          "name": "stdout",
          "text": [
            "+-----------+------+--------------------+------+----+-----+-----+-------------+--------+---------------+--------+--------+--------------------+-----+--------------------+--------------------+----------+\n",
            "|PassengerId|Pclass|                Name|   Sex| Age|SibSp|Parch|       Ticket|    Fare|          Cabin|Embarked|Survived|            features|label|       rawPrediction|         probability|prediction|\n",
            "+-----------+------+--------------------+------+----+-----+-----+-------------+--------+---------------+--------+--------+--------------------+-----+--------------------+--------------------+----------+\n",
            "|         11|     3|Sandstrom, Miss. ...|female| 4.0|    1|    1|      PP 9549|    16.7|             G6|       S|       1|[3.0,4.0,1.0,1.0,...|  0.0|[81.4395485551614...|[1.0,4.7803135067...|       0.0|\n",
            "|         24|     1|Sloper, Mr. Willi...|  male|28.0|    0|    0|       113788|    35.5|             A6|       S|       1|[1.0,28.0,0.0,0.0...|  0.0|[14.0671811437204...|[0.59985966118274...|       0.0|\n",
            "|         28|     1|Fortune, Mr. Char...|  male|19.0|    3|    2|        19950|   263.0|    C23 C25 C27|       S|       0|[1.0,19.0,3.0,2.0...|  0.0|[14.9977008912962...|[0.49039561098586...|       1.0|\n",
            "|         76|     3|Moen, Mr. Sigurd ...|  male|25.0|    0|    0|       348123|    7.65|          F G73|       S|       0|[3.0,25.0,0.0,0.0...|  0.0|[83.6092179841208...|[1.0,9.6265150253...|       0.0|\n",
            "|         93|     1|Chaffee, Mr. Herb...|  male|46.0|    1|    0|  W.E.P. 5734|  61.175|            E31|       S|       0|[1.0,46.0,1.0,0.0...|  0.0|[7.54191010759020...|[0.61925932795461...|       0.0|\n",
            "|         97|     1|Goldschmidt, Mr. ...|  male|71.0|    0|    0|     PC 17754| 34.6542|             A5|       C|       0|[1.0,71.0,0.0,0.0...|  1.0|[21.1389098213490...|[0.69740683383260...|       0.0|\n",
            "|         98|     1|Greenfield, Mr. W...|  male|23.0|    0|    1|     PC 17759| 63.3583|        D10 D12|       C|       1|[1.0,23.0,0.0,1.0...|  1.0|[31.4260946141833...|[0.69354374484698...|       0.0|\n",
            "|        103|     1|White, Mr. Richar...|  male|21.0|    0|    1|        35281| 77.2875|            D26|       S|       0|[1.0,21.0,0.0,1.0...|  0.0|[37.6740700875572...|[0.64497271794767...|       0.0|\n",
            "|        152|     1|Pears, Mrs. Thoma...|female|22.0|    1|    0|       113776|    66.6|             C2|       S|       1|[1.0,22.0,1.0,0.0...|  0.0|[0.74801162382705...|[0.51567907013980...|       0.0|\n",
            "|        194|     2|Navratil, Master....|  male| 3.0|    1|    1|       230080|    26.0|             F2|       S|       1|[2.0,3.0,1.0,1.0,...|  0.0|[49.8432164047634...|[1.0,3.9807128324...|       0.0|\n",
            "|        196|     1|Lurette, Miss. Elise|female|58.0|    0|    0|     PC 17569|146.5208|            B80|       C|       1|[1.0,58.0,0.0,0.0...|  1.0|[13.8344580665726...|[0.38365793688751...|       1.0|\n",
            "|        206|     3|Strom, Miss. Telm...|female| 2.0|    0|    1|       347054| 10.4625|             G6|       S|       0|[3.0,2.0,0.0,1.0,...|  0.0|[100.838877781555...|[1.0,5.9093912365...|       0.0|\n",
            "|        210|     1|    Blank, Mr. Henry|  male|40.0|    0|    0|       112277|    31.0|            A31|       C|       1|[1.0,40.0,0.0,0.0...|  1.0|[14.2904712060543...|[0.64204390914249...|       0.0|\n",
            "|        225|     1|Hoyt, Mr. Frederi...|  male|38.0|    1|    0|        19943|    90.0|            C93|       S|       1|[1.0,38.0,1.0,0.0...|  0.0|[0.85554829397612...|[0.50942597164362...|       0.0|\n",
            "|        231|     1|Harris, Mrs. Henr...|female|35.0|    1|    0|        36973|  83.475|            C83|       S|       1|[1.0,35.0,1.0,0.0...|  0.0|[0.84921227870439...|[0.51670209016112...|       0.0|\n",
            "|        264|     1|Harrison, Mr. Wil...|  male|40.0|    0|    0|       112059|     0.0|            B94|       S|       0|(6,[0,1],[1.0,40.0])|  0.0|[20.8614491400880...|[0.70558042314150...|       0.0|\n",
            "|        293|     2|Levy, Mr. Rene Ja...|  male|36.0|    0|    0|SC/Paris 2163|  12.875|              D|       C|       0|[2.0,36.0,0.0,0.0...|  1.0|[52.2334266460393...|[1.0,6.7310004514...|       0.0|\n",
            "|        298|     1|Allison, Miss. He...|female| 2.0|    1|    2|       113781|  151.55|        C22 C26|       S|       0|[1.0,2.0,1.0,2.0,...|  0.0|[41.4853602975988...|[0.63739763529420...|       0.0|\n",
            "|        310|     1|Francatelli, Miss...|female|30.0|    0|    0|     PC 17485| 56.9292|            E36|       C|       1|[1.0,30.0,0.0,0.0...|  1.0|[13.9609228223821...|[0.54834895337379...|       0.0|\n",
            "|        312|     1|Ryerson, Miss. Em...|female|18.0|    2|    2|     PC 17608| 262.375|B57 B59 B63 B66|       C|       1|[1.0,18.0,2.0,2.0...|  1.0|[21.6360167350404...|[0.44843673925677...|       1.0|\n",
            "+-----------+------+--------------------+------+----+-----+-----+-------------+--------+---------------+--------+--------+--------------------+-----+--------------------+--------------------+----------+\n",
            "only showing top 20 rows\n",
            "\n",
            "+----------+-----+\n",
            "|prediction|label|\n",
            "+----------+-----+\n",
            "|       0.0|  0.0|\n",
            "|       0.0|  0.0|\n",
            "|       1.0|  0.0|\n",
            "|       0.0|  0.0|\n",
            "|       0.0|  0.0|\n",
            "|       0.0|  1.0|\n",
            "|       0.0|  1.0|\n",
            "|       0.0|  0.0|\n",
            "|       0.0|  0.0|\n",
            "|       0.0|  0.0|\n",
            "|       1.0|  1.0|\n",
            "|       0.0|  0.0|\n",
            "|       0.0|  1.0|\n",
            "|       0.0|  0.0|\n",
            "|       0.0|  0.0|\n",
            "|       0.0|  0.0|\n",
            "|       0.0|  1.0|\n",
            "|       0.0|  0.0|\n",
            "|       0.0|  1.0|\n",
            "|       1.0|  1.0|\n",
            "+----------+-----+\n",
            "only showing top 20 rows\n",
            "\n",
            "0.660377358490566\n",
            "0.6714933450343719\n",
            "0.660377358490566\n"
          ]
        },
        {
          "output_type": "execute_result",
          "data": {
            "text/plain": [
              "array([[29.,  3.],\n",
              "       [14.,  6.]])"
            ]
          },
          "metadata": {},
          "execution_count": 117
        }
      ]
    }
  ]
}